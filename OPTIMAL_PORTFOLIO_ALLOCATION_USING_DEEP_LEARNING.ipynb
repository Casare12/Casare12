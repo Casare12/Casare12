{
  "nbformat": 4,
  "nbformat_minor": 0,
  "metadata": {
    "colab": {
      "provenance": [],
      "authorship_tag": "ABX9TyO5SxON/zE2m/YazhOnErHN",
      "include_colab_link": true
    },
    "kernelspec": {
      "name": "python3",
      "display_name": "Python 3"
    },
    "language_info": {
      "name": "python"
    }
  },
  "cells": [
    {
      "cell_type": "markdown",
      "metadata": {
        "id": "view-in-github",
        "colab_type": "text"
      },
      "source": [
        "<a href=\"https://colab.research.google.com/github/Casare12/Casare12/blob/main/OPTIMAL_PORTFOLIO_ALLOCATION_USING_DEEP_LEARNING.ipynb\" target=\"_parent\"><img src=\"https://colab.research.google.com/assets/colab-badge.svg\" alt=\"Open In Colab\"/></a>"
      ]
    },
    {
      "cell_type": "code",
      "execution_count": null,
      "metadata": {
        "id": "5rt_HmPuv4WY"
      },
      "outputs": [],
      "source": [
        "import numpy as np\n",
        "import pandas as pd\n",
        "from sklearn.preprocessing import MinMaxScaler\n",
        "from keras.models import Sequential\n",
        "from keras.layers import Dense, Dropout"
      ]
    },
    {
      "cell_type": "code",
      "source": [
        "# Load the stock data\n",
        "df = pd.read_csv('stock_data.csv')"
      ],
      "metadata": {
        "id": "LiuN6OyBv87P"
      },
      "execution_count": null,
      "outputs": []
    },
    {
      "cell_type": "code",
      "source": [
        "# Normalize the data using MinMaxScaler\n",
        "scaler = MinMaxScaler()\n",
        "df = scaler.fit_transform(df)"
      ],
      "metadata": {
        "id": "BN6nL5X7wA8j"
      },
      "execution_count": null,
      "outputs": []
    },
    {
      "cell_type": "code",
      "source": [
        "# Split the data into train and test sets\n",
        "train_size = int(len(df) * 0.8)\n",
        "train_data = df[:train_size]\n",
        "test_data = df[train_size:]"
      ],
      "metadata": {
        "id": "ec9JwvXNwFCV"
      },
      "execution_count": null,
      "outputs": []
    },
    {
      "cell_type": "code",
      "source": [
        "# Build the model\n",
        "model = Sequential()\n",
        "model.add(Dense(128, input_dim=df.shape[1], activation='relu'))\n",
        "model.add(Dropout(0.2))\n",
        "model.add(Dense(64, activation='relu'))\n",
        "model.add(Dropout(0.2))\n",
        "model.add(Dense(32, activation='relu'))\n",
        "model.add(Dropout(0.2))\n",
        "model.add(Dense(df.shape[1], activation='softmax'))"
      ],
      "metadata": {
        "id": "ou20UV4AwMWL"
      },
      "execution_count": null,
      "outputs": []
    },
    {
      "cell_type": "code",
      "source": [
        "# Compile and fit the model\n",
        "model.compile(loss='categorical_crossentropy', optimizer='adam', metrics=['accuracy'])\n",
        "model.fit(train_data, train_labels, epochs=10, batch_size=32, validation_split=0.2)"
      ],
      "metadata": {
        "id": "S1mDDOybwRwO"
      },
      "execution_count": null,
      "outputs": []
    },
    {
      "cell_type": "code",
      "source": [
        "# Evaluate the model on the test data\n",
        "loss, accuracy = model.evaluate(test_data, test_labels)\n",
        "print('Loss:', loss)\n",
        "print('Accuracy:', accuracy)"
      ],
      "metadata": {
        "id": "tw7yUOKrwXWM"
      },
      "execution_count": null,
      "outputs": []
    },
    {
      "cell_type": "code",
      "source": [
        "# Use the model to predict the optimal portfolio allocation\n",
        "predictions = model.predict(test_data)"
      ],
      "metadata": {
        "id": "fKyVeAtIwdX1"
      },
      "execution_count": null,
      "outputs": []
    }
  ]
}